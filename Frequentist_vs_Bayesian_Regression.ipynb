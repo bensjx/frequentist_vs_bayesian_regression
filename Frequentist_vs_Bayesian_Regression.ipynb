{
 "cells": [
  {
   "cell_type": "code",
   "execution_count": 1,
   "metadata": {
    "colab": {
     "base_uri": "https://localhost:8080/",
     "height": 34
    },
    "colab_type": "code",
    "id": "VdnE1xH6PaQH",
    "outputId": "86ebaf52-2adf-4d26-ae3e-5fba0070730d"
   },
   "outputs": [
    {
     "name": "stdout",
     "output_type": "stream",
     "text": [
      "Mounted at /content/drive\n"
     ]
    }
   ],
   "source": [
    "from google.colab import drive\n",
    "#drive.flush_and_unmount()\n",
    "drive.mount('/content/drive')"
   ]
  },
  {
   "cell_type": "code",
   "execution_count": 2,
   "metadata": {
    "colab": {},
    "colab_type": "code",
    "id": "QfBtG0trvw_L"
   },
   "outputs": [],
   "source": [
    "# Pandas and numpy for data manipulation\n",
    "import pandas as pd\n",
    "import numpy as np\n",
    "np.random.seed(123)"
   ]
  },
  {
   "cell_type": "code",
   "execution_count": 3,
   "metadata": {
    "colab": {},
    "colab_type": "code",
    "id": "OG1WdLpxwLCv"
   },
   "outputs": [],
   "source": [
    "# Standard ML Models for comparison\n",
    "from sklearn.linear_model import LinearRegression\n",
    "# Splitting data into training/testing\n",
    "from sklearn.model_selection import train_test_split"
   ]
  },
  {
   "cell_type": "markdown",
   "metadata": {
    "colab_type": "text",
    "id": "-nafZg7luBTO"
   },
   "source": [
    "## 1. Simple Linear Regression"
   ]
  },
  {
   "cell_type": "markdown",
   "metadata": {
    "colab_type": "text",
    "id": "MB6xkcyOYqJJ"
   },
   "source": [
    "### Load the data\n"
   ]
  },
  {
   "cell_type": "code",
   "execution_count": 4,
   "metadata": {
    "colab": {},
    "colab_type": "code",
    "id": "D51F7JxFMC0k"
   },
   "outputs": [],
   "source": [
    "datafolder = \"/content/drive/My Drive/NUS/BT4012/\"\n",
    "file_name = \"student-mat.csv\"\n",
    "df_data = pd.read_csv(datafolder + file_name, sep=';', index_col=None)"
   ]
  },
  {
   "cell_type": "code",
   "execution_count": 5,
   "metadata": {
    "colab": {},
    "colab_type": "code",
    "id": "lqSYktZlZUsM"
   },
   "outputs": [],
   "source": [
    "df_data.rename(columns={'G3': 'Grade'}, inplace=True)\n",
    "df_data = df_data[~df_data['Grade'].isin([0, 1])]\n",
    "df_used = df_data[['studytime', 'Medu', 'Grade']]"
   ]
  },
  {
   "cell_type": "code",
   "execution_count": 6,
   "metadata": {
    "colab": {
     "base_uri": "https://localhost:8080/",
     "height": 106
    },
    "colab_type": "code",
    "id": "Ngk3YJC1wUIj",
    "outputId": "801dd8af-d9de-4d4f-938f-f566e3670a5b"
   },
   "outputs": [
    {
     "data": {
      "text/html": [
       "<div>\n",
       "<style scoped>\n",
       "    .dataframe tbody tr th:only-of-type {\n",
       "        vertical-align: middle;\n",
       "    }\n",
       "\n",
       "    .dataframe tbody tr th {\n",
       "        vertical-align: top;\n",
       "    }\n",
       "\n",
       "    .dataframe thead th {\n",
       "        text-align: right;\n",
       "    }\n",
       "</style>\n",
       "<table border=\"1\" class=\"dataframe\">\n",
       "  <thead>\n",
       "    <tr style=\"text-align: right;\">\n",
       "      <th></th>\n",
       "      <th>studytime</th>\n",
       "      <th>Medu</th>\n",
       "      <th>Grade</th>\n",
       "    </tr>\n",
       "  </thead>\n",
       "  <tbody>\n",
       "    <tr>\n",
       "      <th>0</th>\n",
       "      <td>2</td>\n",
       "      <td>4</td>\n",
       "      <td>6</td>\n",
       "    </tr>\n",
       "    <tr>\n",
       "      <th>1</th>\n",
       "      <td>2</td>\n",
       "      <td>1</td>\n",
       "      <td>6</td>\n",
       "    </tr>\n",
       "  </tbody>\n",
       "</table>\n",
       "</div>"
      ],
      "text/plain": [
       "   studytime  Medu  Grade\n",
       "0          2     4      6\n",
       "1          2     1      6"
      ]
     },
     "execution_count": 6,
     "metadata": {
      "tags": []
     },
     "output_type": "execute_result"
    }
   ],
   "source": [
    "df_used.head(2)"
   ]
  },
  {
   "cell_type": "code",
   "execution_count": 7,
   "metadata": {
    "colab": {},
    "colab_type": "code",
    "id": "LQrckPRP4PXo"
   },
   "outputs": [],
   "source": [
    "df_X = df_used[['studytime', 'Medu']] #store features\n",
    "df_y = df_used[['Grade']]"
   ]
  },
  {
   "cell_type": "code",
   "execution_count": 8,
   "metadata": {
    "colab": {},
    "colab_type": "code",
    "id": "rzNKEwvt4y0t"
   },
   "outputs": [],
   "source": [
    " # Split into training/testing sets with 25% split\n",
    "X_train, X_test, y_train, y_test = train_test_split(df_X, df_y, \n",
    "                                                    test_size = 0.25,\n",
    "                                                    random_state=123)"
   ]
  },
  {
   "cell_type": "markdown",
   "metadata": {
    "colab_type": "text",
    "id": "BwDnM_StwmZn"
   },
   "source": [
    "### *Train linear regression model on X_train and y_train*\n",
    "\n",
    "* Adopt the default hyperparamter setting \n"
   ]
  },
  {
   "cell_type": "code",
   "execution_count": 9,
   "metadata": {
    "colab": {
     "base_uri": "https://localhost:8080/",
     "height": 34
    },
    "colab_type": "code",
    "id": "nskcWinNwlxC",
    "outputId": "cab8f7b0-f7c6-4992-9f49-75f0e73df27e"
   },
   "outputs": [
    {
     "data": {
      "text/plain": [
       "LinearRegression(copy_X=True, fit_intercept=True, n_jobs=None, normalize=False)"
      ]
     },
     "execution_count": 9,
     "metadata": {
      "tags": []
     },
     "output_type": "execute_result"
    }
   ],
   "source": [
    "## write your code\n",
    "lr = LinearRegression()\n",
    "lr.fit(X_train, y_train)"
   ]
  },
  {
   "cell_type": "markdown",
   "metadata": {
    "colab_type": "text",
    "id": "1ZOCypkSxClz"
   },
   "source": [
    "### *Check MAE and RMSE on testing data*"
   ]
  },
  {
   "cell_type": "code",
   "execution_count": 10,
   "metadata": {
    "colab": {
     "base_uri": "https://localhost:8080/",
     "height": 52
    },
    "colab_type": "code",
    "id": "zbM6wMKlwiXV",
    "outputId": "ab4cadbb-dea8-4568-c4a0-24724a43fe4f"
   },
   "outputs": [
    {
     "name": "stdout",
     "output_type": "stream",
     "text": [
      "MAE: 2.84\n",
      "RMSE: 3.45\n"
     ]
    }
   ],
   "source": [
    "## Write your code \n",
    "predictions = lr.predict(X_test)\n",
    "mae = np.mean(abs(predictions - y_test))\n",
    "rmse = np.sqrt(np.mean((predictions - y_test)**2))\n",
    "print('MAE: %0.2f' %  mae)  \n",
    "print('RMSE: %0.2f' %  rmse)    "
   ]
  },
  {
   "cell_type": "markdown",
   "metadata": {
    "colab_type": "text",
    "id": "IvZ1zJ9rJc67"
   },
   "source": [
    "### *Check the predicted grade of one student*\n",
    "\n",
    "The 10th student in the testing data"
   ]
  },
  {
   "cell_type": "code",
   "execution_count": 11,
   "metadata": {
    "colab": {
     "base_uri": "https://localhost:8080/",
     "height": 34
    },
    "colab_type": "code",
    "id": "AIbta5A-Jcjx",
    "outputId": "41bc9a96-3f1f-42be-c7a6-3668aa857f22"
   },
   "outputs": [
    {
     "data": {
      "text/plain": [
       "array([11.99194585])"
      ]
     },
     "execution_count": 11,
     "metadata": {
      "tags": []
     },
     "output_type": "execute_result"
    }
   ],
   "source": [
    "## write your code\n",
    "predictions[9]"
   ]
  },
  {
   "cell_type": "markdown",
   "metadata": {
    "colab_type": "text",
    "id": "1j0X11HpxSlZ"
   },
   "source": [
    "### *Print the learned model parameters of linear regression*\n"
   ]
  },
  {
   "cell_type": "code",
   "execution_count": 12,
   "metadata": {
    "colab": {
     "base_uri": "https://localhost:8080/",
     "height": 90
    },
    "colab_type": "code",
    "id": "_qmkAREgxP95",
    "outputId": "b5e170f5-b193-4486-cc36-a1059000ce13"
   },
   "outputs": [
    {
     "name": "stdout",
     "output_type": "stream",
     "text": [
      "Grade = 8.75 + 0.68 * studytime + 0.47 * Medu\n",
      "\n",
      "For an unit increase in study time, expected grade increases by 0.68, independent of all other variables. Likewise, for an unit increase in Medu, expected grade increases by 0.47, independent of all other variables.\n"
     ]
    }
   ],
   "source": [
    "## Write your code\n",
    "intercept = lr.intercept_[0]\n",
    "coef = lr.coef_\n",
    "formula = 'Grade = %0.2f +' % intercept\n",
    "\n",
    "for i, col in enumerate(X_train.columns):\n",
    "    formula += ' %0.2f * %s +' % (coef[0][i], col)\n",
    "    \n",
    "print(formula[:-2])\n",
    "print()\n",
    "print(\"For an unit increase in study time, expected grade increases by 0.68, independent of all other variables.\\\n",
    " Likewise, for an unit increase in Medu, expected grade increases by 0.47, independent of all other variables.\")"
   ]
  },
  {
   "cell_type": "markdown",
   "metadata": {
    "colab_type": "text",
    "id": "UO9abHkyx1M3"
   },
   "source": [
    "## 2. Bayesian Linear Regression\n",
    "\n",
    "Here, two bayesian models will be implemented with **two different sets of prior functions**. The first bayeisan model is given as:\n",
    "\n",
    "$u_i = \\beta_0 + \\beta_1*{studytime}_i + \\beta_2*{medu}_i$\n",
    "\n",
    "$grade_i \\sim Norm(u_i, \\sigma^2_\\epsilon)$\n",
    "\n",
    "$\\beta_0 \\sim Norm(0, 1)$\n",
    "\n",
    "$\\beta_1 \\sim Norm(0, 1)$\n",
    "\n",
    "$\\beta_2 \\sim Norm(0, 100)$\n",
    "\n",
    "$\\sigma_\\epsilon \\sim {Uniform}(0, 10)$\n",
    "\n",
    "Here, $\\beta_0$ is the intercept. Then, $\\beta_1$ and $\\beta_2$ are the coefficients for features: studytime and medu.  For the i-th datasample, a mean $u_i$ can be computed linearly from two features. Then, the target grade $y_i$ is assumed to be normally distributed around this $u_i$.\n",
    "\n",
    "##### Make sure the version of pymc3 is 3.8"
   ]
  },
  {
   "cell_type": "code",
   "execution_count": 13,
   "metadata": {
    "colab": {
     "base_uri": "https://localhost:8080/",
     "height": 615
    },
    "colab_type": "code",
    "id": "Hg0nq2Bsx0p8",
    "outputId": "4c612afe-0e27-4fa0-e8d4-20fc4b3fbf2b"
   },
   "outputs": [
    {
     "name": "stdout",
     "output_type": "stream",
     "text": [
      "Collecting pymc3==3.8\n",
      "\u001b[?25l  Downloading https://files.pythonhosted.org/packages/32/19/6c94cbadb287745ac38ff1197b9fadd66500b6b9c468e79099b110c6a2e9/pymc3-3.8-py3-none-any.whl (908kB)\n",
      "\u001b[K     |████████████████████████████████| 911kB 2.7MB/s \n",
      "\u001b[?25hRequirement already satisfied: tqdm>=4.8.4 in /usr/local/lib/python3.6/dist-packages (from pymc3==3.8) (4.41.1)\n",
      "Collecting arviz>=0.4.1\n",
      "\u001b[?25l  Downloading https://files.pythonhosted.org/packages/d2/ed/2f9d0217fac295b3dd158195060e5350c1c9a2abcba04030a426a15fd908/arviz-0.9.0-py3-none-any.whl (1.5MB)\n",
      "\u001b[K     |████████████████████████████████| 1.5MB 16.3MB/s \n",
      "\u001b[?25hRequirement already satisfied: theano>=1.0.4 in /usr/local/lib/python3.6/dist-packages (from pymc3==3.8) (1.0.5)\n",
      "Requirement already satisfied: scipy>=0.18.1 in /usr/local/lib/python3.6/dist-packages (from pymc3==3.8) (1.4.1)\n",
      "Requirement already satisfied: numpy>=1.13.0 in /usr/local/lib/python3.6/dist-packages (from pymc3==3.8) (1.18.5)\n",
      "Requirement already satisfied: h5py>=2.7.0 in /usr/local/lib/python3.6/dist-packages (from pymc3==3.8) (2.10.0)\n",
      "Requirement already satisfied: pandas>=0.18.0 in /usr/local/lib/python3.6/dist-packages (from pymc3==3.8) (1.0.5)\n",
      "Requirement already satisfied: patsy>=0.4.0 in /usr/local/lib/python3.6/dist-packages (from pymc3==3.8) (0.5.1)\n",
      "Requirement already satisfied: packaging in /usr/local/lib/python3.6/dist-packages (from arviz>=0.4.1->pymc3==3.8) (20.4)\n",
      "Requirement already satisfied: matplotlib>=3.0 in /usr/local/lib/python3.6/dist-packages (from arviz>=0.4.1->pymc3==3.8) (3.2.2)\n",
      "Collecting netcdf4\n",
      "\u001b[?25l  Downloading https://files.pythonhosted.org/packages/09/39/3687b2ba762a709cd97e48dfaf3ae36a78ae603ec3d1487f767ad58a7b2e/netCDF4-1.5.4-cp36-cp36m-manylinux1_x86_64.whl (4.3MB)\n",
      "\u001b[K     |████████████████████████████████| 4.3MB 23.7MB/s \n",
      "\u001b[?25hRequirement already satisfied: xarray>=0.11 in /usr/local/lib/python3.6/dist-packages (from arviz>=0.4.1->pymc3==3.8) (0.15.1)\n",
      "Requirement already satisfied: six>=1.9.0 in /usr/local/lib/python3.6/dist-packages (from theano>=1.0.4->pymc3==3.8) (1.15.0)\n",
      "Requirement already satisfied: pytz>=2017.2 in /usr/local/lib/python3.6/dist-packages (from pandas>=0.18.0->pymc3==3.8) (2018.9)\n",
      "Requirement already satisfied: python-dateutil>=2.6.1 in /usr/local/lib/python3.6/dist-packages (from pandas>=0.18.0->pymc3==3.8) (2.8.1)\n",
      "Requirement already satisfied: pyparsing>=2.0.2 in /usr/local/lib/python3.6/dist-packages (from packaging->arviz>=0.4.1->pymc3==3.8) (2.4.7)\n",
      "Requirement already satisfied: kiwisolver>=1.0.1 in /usr/local/lib/python3.6/dist-packages (from matplotlib>=3.0->arviz>=0.4.1->pymc3==3.8) (1.2.0)\n",
      "Requirement already satisfied: cycler>=0.10 in /usr/local/lib/python3.6/dist-packages (from matplotlib>=3.0->arviz>=0.4.1->pymc3==3.8) (0.10.0)\n",
      "Collecting cftime\n",
      "\u001b[?25l  Downloading https://files.pythonhosted.org/packages/81/f4/31cb9b65f462ea960bd334c5466313cb7b8af792f272546b68b7868fccd4/cftime-1.2.1-cp36-cp36m-manylinux1_x86_64.whl (287kB)\n",
      "\u001b[K     |████████████████████████████████| 296kB 44.3MB/s \n",
      "\u001b[?25hRequirement already satisfied: setuptools>=41.2 in /usr/local/lib/python3.6/dist-packages (from xarray>=0.11->arviz>=0.4.1->pymc3==3.8) (50.3.0)\n",
      "Installing collected packages: cftime, netcdf4, arviz, pymc3\n",
      "  Found existing installation: pymc3 3.7\n",
      "    Uninstalling pymc3-3.7:\n",
      "      Successfully uninstalled pymc3-3.7\n",
      "Successfully installed arviz-0.9.0 cftime-1.2.1 netcdf4-1.5.4 pymc3-3.8\n"
     ]
    }
   ],
   "source": [
    "! pip install pymc3==3.8"
   ]
  },
  {
   "cell_type": "code",
   "execution_count": 14,
   "metadata": {
    "colab": {},
    "colab_type": "code",
    "id": "o1kG_9T88ha2"
   },
   "outputs": [],
   "source": [
    "import pymc3 as pm"
   ]
  },
  {
   "cell_type": "code",
   "execution_count": 15,
   "metadata": {
    "colab": {},
    "colab_type": "code",
    "id": "yXDv0M1Z8jwZ"
   },
   "outputs": [],
   "source": [
    "## Define your model here\n",
    "def model_build(df_train, df_label=None):\n",
    "    \"\"\"\n",
    "    build genearlized linear model\n",
    "    \"\"\"\n",
    "    with pm.Model() as model:\n",
    "        ## write your code here\n",
    "        num_fea = df_train.shape[1]\n",
    "        \n",
    "        #error term\n",
    "        sigma = pm.Uniform('sigma', 0, 10)\n",
    "        \n",
    "        #intercept\n",
    "        mu_infe = pm.Normal('intercept', mu=0, sigma=1) \n",
    "        \n",
    "        #beta1\n",
    "        mu_infe = mu_infe + pm.Normal('beta_1_coeff_for_{}'.format(df_train.columns[0]), mu=0, sigma=1)*df_train.loc[:, df_train.columns[0]]\n",
    "        \n",
    "        #beta2\n",
    "        mu_infe = mu_infe + pm.Normal('beta_2_coeff_for_{}'.format(df_train.columns[1]), mu=0, sigma=10)*df_train.loc[:, df_train.columns[1]]\n",
    "\n",
    "        if df_label is None:\n",
    "          # inference\n",
    "          likelihood = pm.Normal('y', mu=mu_infe, sigma=sigma, observed = False)\n",
    "        else:\n",
    "          # training\n",
    "          likelihood = pm.Normal('y', mu=mu_infe, sigma=sigma, observed = df_label['Grade'].values)\n",
    "        return model"
   ]
  },
  {
   "cell_type": "code",
   "execution_count": 16,
   "metadata": {
    "colab": {
     "base_uri": "https://localhost:8080/",
     "height": 122
    },
    "colab_type": "code",
    "id": "9LH1irJb9gTs",
    "outputId": "2c14e019-5f6d-4695-d71c-086870035cb5"
   },
   "outputs": [
    {
     "name": "stderr",
     "output_type": "stream",
     "text": [
      "Auto-assigning NUTS sampler...\n",
      "Initializing NUTS using jitter+adapt_diag...\n",
      "Sequential sampling (2 chains in 1 job)\n",
      "NUTS: [beta_2_coeff_for_Medu, beta_1_coeff_for_studytime, intercept, sigma]\n",
      "Sampling chain 0, 0 divergences: 100%|██████████| 2500/2500 [00:07<00:00, 346.06it/s]\n",
      "Sampling chain 1, 0 divergences: 100%|██████████| 2500/2500 [00:06<00:00, 409.96it/s]\n"
     ]
    }
   ],
   "source": [
    "# Use MCMC algorithm to draw samples to approximate the posterior for model parameters (error term, bias term and all coefficients)\n",
    "with model_build(X_train, y_train):\n",
    "    trace = pm.sample(draws=2000, chains = 2, tune = 500)"
   ]
  },
  {
   "cell_type": "code",
   "execution_count": 17,
   "metadata": {
    "colab": {
     "base_uri": "https://localhost:8080/",
     "height": 34
    },
    "colab_type": "code",
    "id": "v7uxN2uUGSLK",
    "outputId": "92104988-c314-4966-d67e-5968a5142520"
   },
   "outputs": [
    {
     "name": "stderr",
     "output_type": "stream",
     "text": [
      "100%|██████████| 4000/4000 [00:07<00:00, 521.53it/s]\n"
     ]
    }
   ],
   "source": [
    "# sample the posterior predictive distribution for the 10th student in testing data\n",
    "# 4000 samples (2 chains and each chain has 2000 samples) will be sampled for this student.\n",
    "with model_build(X_test.iloc[9:10,:]):\n",
    "    ppc = pm.sample_posterior_predictive(trace)"
   ]
  },
  {
   "cell_type": "markdown",
   "metadata": {
    "colab_type": "text",
    "id": "1fHH3iFTeRFk"
   },
   "source": [
    "*Compute the mean and standard deviation of your prediction.*"
   ]
  },
  {
   "cell_type": "code",
   "execution_count": 18,
   "metadata": {
    "colab": {
     "base_uri": "https://localhost:8080/",
     "height": 34
    },
    "colab_type": "code",
    "id": "o0sqxf4bGlYs",
    "outputId": "29e642dd-7d2a-4f48-911a-a1d46c503b5e"
   },
   "outputs": [
    {
     "name": "stdout",
     "output_type": "stream",
     "text": [
      "The mean of prediction is 12.353 and the standard deviation is 3.163 \n"
     ]
    }
   ],
   "source": [
    "## write your code\n",
    "print(\"The mean of prediction is %0.3f and the standard deviation is %0.3f \" %(np.mean(ppc['y']),np.std(ppc['y'])))"
   ]
  },
  {
   "cell_type": "markdown",
   "metadata": {
    "colab_type": "text",
    "id": "xymeI-R_K0Ya"
   },
   "source": [
    "### *Check the posterior distribution for the model parameters*\n",
    "\n",
    "$p(w|D)$"
   ]
  },
  {
   "cell_type": "code",
   "execution_count": 19,
   "metadata": {
    "colab": {
     "base_uri": "https://localhost:8080/",
     "height": 542
    },
    "colab_type": "code",
    "id": "GYr_NBeYCgjK",
    "outputId": "c8ac3131-5f4d-4635-a63c-615fbdd4aab3"
   },
   "outputs": [
    {
     "name": "stderr",
     "output_type": "stream",
     "text": [
      "/usr/local/lib/python3.6/dist-packages/arviz/data/io_pymc3.py:89: FutureWarning: Using `from_pymc3` without the model will be deprecated in a future release. Not using the model will return less accurate and less useful results. Make sure you use the model argument or call from_pymc3 within a model context.\n",
      "  FutureWarning,\n"
     ]
    },
    {
     "name": "stdout",
     "output_type": "stream",
     "text": [
      "                             mean     sd  hdi_3%  ...  ess_bulk  ess_tail  r_hat\n",
      "intercept                   6.054  0.589   4.977  ...    2091.0    2100.0    1.0\n",
      "beta_1_coeff_for_studytime  1.187  0.208   0.797  ...    2487.0    1841.0    1.0\n",
      "beta_2_coeff_for_Medu       0.988  0.176   0.672  ...    2223.0    1977.0    1.0\n",
      "sigma                       3.168  0.148   2.907  ...    2536.0    1820.0    1.0\n",
      "\n",
      "[4 rows x 11 columns]\n"
     ]
    },
    {
     "name": "stderr",
     "output_type": "stream",
     "text": [
      "/usr/local/lib/python3.6/dist-packages/arviz/data/io_pymc3.py:89: FutureWarning: Using `from_pymc3` without the model will be deprecated in a future release. Not using the model will return less accurate and less useful results. Make sure you use the model argument or call from_pymc3 within a model context.\n",
      "  FutureWarning,\n"
     ]
    },
    {
     "data": {
      "text/plain": [
       "array([<matplotlib.axes._subplots.AxesSubplot object at 0x7fc8ead4d7f0>,\n",
       "       <matplotlib.axes._subplots.AxesSubplot object at 0x7fc8eabeaf98>,\n",
       "       <matplotlib.axes._subplots.AxesSubplot object at 0x7fc8e97d9e48>,\n",
       "       <matplotlib.axes._subplots.AxesSubplot object at 0x7fc8eae21080>],\n",
       "      dtype=object)"
      ]
     },
     "execution_count": 19,
     "metadata": {
      "tags": []
     },
     "output_type": "execute_result"
    },
    {
     "data": {
      "image/png": "[encoded data removed]",
      "text/plain": [
       "<Figure size 864x216 with 4 Axes>"
      ]
     },
     "metadata": {
      "needs_background": "light",
      "tags": []
     },
     "output_type": "display_data"
    }
   ],
   "source": [
    "## write your code here\n",
    "print(pm.summary(trace).round(5))\n",
    "\n",
    "pm.plot_posterior(trace, figsize = (12, 3))"
   ]
  },
  {
   "cell_type": "markdown",
   "metadata": {
    "colab_type": "text",
    "id": "J1ZCIetGNRRO"
   },
   "source": [
    "The other bayeisan model is given as:\n",
    "\n",
    "$u_i = \\beta_0 + \\beta_1*{studytime}_i + \\beta_2*{medu}_i$\n",
    "\n",
    "$grade_i \\sim Norm(u_i, \\sigma^2_\\epsilon)$\n",
    "\n",
    "$\\beta_0 \\sim Norm(0, 100)$\n",
    "\n",
    "$\\beta_1 \\sim Norm(0, 100)$\n",
    "\n",
    "$\\beta_2 \\sim Norm(0, 100)$\n",
    "\n",
    "$\\sigma_\\epsilon \\sim {Uniform}(0, 10)$"
   ]
  },
  {
   "cell_type": "code",
   "execution_count": 20,
   "metadata": {
    "colab": {},
    "colab_type": "code",
    "id": "IPk2BTLFNe8d"
   },
   "outputs": [],
   "source": [
    "## Define your model here\n",
    "def model_build(df_train, df_label=None):\n",
    "    \"\"\"\n",
    "    build genearlized linear model\n",
    "    \"\"\"\n",
    "    with pm.Model() as model:\n",
    "        ## write your code here\n",
    "        num_fea = df_train.shape[1]\n",
    "        \n",
    "        #error term\n",
    "        sigma = pm.Uniform('sigma', 0, 10)\n",
    "        \n",
    "        #intercept\n",
    "        mu_infe = pm.Normal('intercept', mu=0, sigma=10) \n",
    "        \n",
    "        #beta1\n",
    "        mu_infe = mu_infe + pm.Normal('beta_1_coeff_for_{}'.format(df_train.columns[0]), mu=0, sigma=10)*df_train.loc[:, df_train.columns[0]]\n",
    "        \n",
    "        #beta2\n",
    "        mu_infe = mu_infe + pm.Normal('beta_2_coeff_for_{}'.format(df_train.columns[1]), mu=0, sigma=10)*df_train.loc[:, df_train.columns[1]]\n",
    "\n",
    "        if df_label is None:\n",
    "          # inference\n",
    "          likelihood = pm.Normal('y', mu=mu_infe, sigma=sigma, observed = False)\n",
    "        else:\n",
    "          # training\n",
    "          likelihood = pm.Normal('y', mu=mu_infe, sigma=sigma, observed = df_label['Grade'].values)\n",
    "        return model"
   ]
  },
  {
   "cell_type": "code",
   "execution_count": 21,
   "metadata": {
    "colab": {
     "base_uri": "https://localhost:8080/",
     "height": 140
    },
    "colab_type": "code",
    "id": "e0TJNnmRNi2U",
    "outputId": "5111333a-2455-479a-9395-3bddc15bd1d4"
   },
   "outputs": [
    {
     "name": "stderr",
     "output_type": "stream",
     "text": [
      "Auto-assigning NUTS sampler...\n",
      "Initializing NUTS using jitter+adapt_diag...\n",
      "Sequential sampling (2 chains in 1 job)\n",
      "NUTS: [beta_2_coeff_for_Medu, beta_1_coeff_for_studytime, intercept, sigma]\n",
      "Sampling chain 0, 0 divergences: 100%|██████████| 2500/2500 [00:06<00:00, 367.14it/s]\n",
      "Sampling chain 1, 0 divergences: 100%|██████████| 2500/2500 [00:06<00:00, 394.84it/s]\n",
      "The acceptance probability does not match the target. It is 0.881162011783612, but should be close to 0.8. Try to increase the number of tuning steps.\n"
     ]
    }
   ],
   "source": [
    "# Use MCMC algorithm to draw samples to approximate the posterior for model parameters (error term, bias term and all coefficients)\n",
    "with model_build(X_train, y_train):\n",
    "    trace = pm.sample(draws=2000, chains = 2, tune = 500)"
   ]
  },
  {
   "cell_type": "markdown",
   "metadata": {
    "colab_type": "text",
    "id": "_jVOZ2OXeyVU"
   },
   "source": [
    "### *Similar to the first bayesian linear regression model, check the distribution for model parameters and the prediction distribution of the previous chosen data sample*"
   ]
  },
  {
   "cell_type": "code",
   "execution_count": 22,
   "metadata": {
    "colab": {
     "base_uri": "https://localhost:8080/",
     "height": 578
    },
    "colab_type": "code",
    "id": "H1Cf3zKsNlTj",
    "outputId": "d5098824-11cd-452e-803c-9305beca2468"
   },
   "outputs": [
    {
     "name": "stderr",
     "output_type": "stream",
     "text": [
      "100%|██████████| 4000/4000 [00:05<00:00, 688.23it/s]\n",
      "/usr/local/lib/python3.6/dist-packages/arviz/data/io_pymc3.py:89: FutureWarning: Using `from_pymc3` without the model will be deprecated in a future release. Not using the model will return less accurate and less useful results. Make sure you use the model argument or call from_pymc3 within a model context.\n",
      "  FutureWarning,\n"
     ]
    },
    {
     "name": "stdout",
     "output_type": "stream",
     "text": [
      "The mean of prediction is 11.989 and the standard deviation is 3.115 \n",
      "                             mean     sd  hdi_3%  ...  ess_bulk  ess_tail  r_hat\n",
      "intercept                   8.739  0.640   7.496  ...    2542.0    2350.0    1.0\n",
      "beta_1_coeff_for_studytime  0.687  0.224   0.274  ...    2916.0    2185.0    1.0\n",
      "beta_2_coeff_for_Medu       0.470  0.171   0.156  ...    2995.0    2413.0    1.0\n",
      "sigma                       3.073  0.136   2.826  ...    2787.0    2213.0    1.0\n",
      "\n",
      "[4 rows x 11 columns]\n"
     ]
    },
    {
     "name": "stderr",
     "output_type": "stream",
     "text": [
      "/usr/local/lib/python3.6/dist-packages/arviz/data/io_pymc3.py:89: FutureWarning: Using `from_pymc3` without the model will be deprecated in a future release. Not using the model will return less accurate and less useful results. Make sure you use the model argument or call from_pymc3 within a model context.\n",
      "  FutureWarning,\n"
     ]
    },
    {
     "data": {
      "text/plain": [
       "array([<matplotlib.axes._subplots.AxesSubplot object at 0x7fc8e62e0b70>,\n",
       "       <matplotlib.axes._subplots.AxesSubplot object at 0x7fc8e95d3940>,\n",
       "       <matplotlib.axes._subplots.AxesSubplot object at 0x7fc8e93cd278>,\n",
       "       <matplotlib.axes._subplots.AxesSubplot object at 0x7fc8e97504e0>],\n",
       "      dtype=object)"
      ]
     },
     "execution_count": 22,
     "metadata": {
      "tags": []
     },
     "output_type": "execute_result"
    },
    {
     "data": {
      "image/png": "[encoded data removed]",
      "text/plain": [
       "<Figure size 864x216 with 4 Axes>"
      ]
     },
     "metadata": {
      "needs_background": "light",
      "tags": []
     },
     "output_type": "display_data"
    }
   ],
   "source": [
    "## write your code\n",
    "\n",
    "# prediction distribution\n",
    "with model_build(X_test.iloc[9:10,:]): # 9th student\n",
    "    ppc = pm.sample_posterior_predictive(trace)\n",
    "\n",
    "print(\"The mean of prediction is %0.3f and the standard deviation is %0.3f \" %(np.mean(ppc['y']),np.std(ppc['y'])))\n",
    "\n",
    "# distribution of model parameters\n",
    "print(pm.summary(trace).round(5))\n",
    "\n",
    "pm.plot_posterior(trace, figsize = (12, 3))"
   ]
  },
  {
   "cell_type": "markdown",
   "metadata": {
    "colab_type": "text",
    "id": "LG1TFFdJOhh_"
   },
   "source": [
    "## 3. Compare Bayesian Linear Regression and Linear Regression (Frequentist)"
   ]
  },
  {
   "cell_type": "markdown",
   "metadata": {
    "colab_type": "text",
    "id": "5ClO5cROpwOB"
   },
   "source": [
    "**Frequentist**: Frequentist model provides a point estimate. This means that the model parameters and the predictions only have one fixed value.\n",
    "\n",
    "**Bayesian**: Bayesian model treats each model parameter as a random variable following a distribution. This means that the model parameter and prediction is not fixed and has a mean and standard deviation.\n",
    "\n",
    "**Differences**: Bayesian model allows us to show our uncertainty in the model by providing a distribution of our model parameters and predictions. How this uncertainty is shown is that instead of providing one single prediction (Frequentist) for the 10th student, we provide multiple estimations (in our case, we provided 4000 estimations with our Bayesian model). This is especially useful if we have very little data and we are unsure about the performance of our model. On the other hand, our frequentist model, may not be accurate and provide us with an inaccurate prediction for the 10th student, but this is not reflected as we only provided a fixed parameter and prediction.\n",
    "\n",
    "The specified prior distribution allows us to feed our prior knowledge about the parameters to the model that we are trying to learn. Coupled with the actual data, bayesian learning then allows us to form a better estimate of the model parameters. It also increases our interpretability of the parameters and prediction as we are now able to display our uncertainty in the form of a distribution, instead of just a single value.\n",
    "\n",
    "For instance, with the 3 models created above, we have:\n",
    "1. Model 1: A simple linear regression\n",
    "2. Model 2: A bayesian model with sigma = 1\n",
    "3. Model 3: A bayesian model with sigma = 10\n",
    "\n",
    "Comparing these 3 models, model 1 and model 3 provides very similar estimates whereas model 2 provides a different estimated score of 10th student and a different estimation of beta1 and beta2.\n",
    "\n",
    "When the sigma is higher, we are showing that we are very uncertain of the model parameters. We are letting the data, instead of our prior knowledge of the model parameters tell the story. Hence, Model 3 should be very similar to model 1, where we are very uncertain of the model parameter. Hence, these 2 models should provide the same estimates.\n",
    "\n",
    "On the other hand, if we were to use a small sigma (model 2), we have a narrow gaussian distribution, which implies that we are very certain that our model parameters should fall between these values. Hence, our estimations should vary differently from model 1(simple linear regression) as we are injecting our prior knowledge of model parameters into the model."
   ]
  }
 ],
 "metadata": {
  "accelerator": "GPU",
  "colab": {
   "collapsed_sections": [],
   "name": "a0171412u_BT4012_AssignmentI.ipynb",
   "provenance": []
  },
  "kernelspec": {
   "display_name": "Python 3 (ipykernel)",
   "language": "python",
   "name": "python3"
  },
  "language_info": {
   "codemirror_mode": {
    "name": "ipython",
    "version": 3
   },
   "file_extension": ".py",
   "mimetype": "text/x-python",
   "name": "python",
   "nbconvert_exporter": "python",
   "pygments_lexer": "ipython3",
   "version": "3.8.3"
  }
 },
 "nbformat": 4,
 "nbformat_minor": 1
}
